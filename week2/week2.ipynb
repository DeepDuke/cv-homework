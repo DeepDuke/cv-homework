{
 "cells": [
  {
   "cell_type": "markdown",
   "metadata": {},
   "source": [
    "## week 2"
   ]
  },
  {
   "cell_type": "code",
   "execution_count": 1,
   "metadata": {
    "collapsed": true
   },
   "outputs": [],
   "source": [
    "import numpy as np\n",
    "import cv2\n",
    "import math\n",
    "% matplotlib inline\n",
    "from matplotlib import pyplot as plt"
   ]
  },
  {
   "cell_type": "code",
   "execution_count": 2,
   "metadata": {
    "collapsed": true
   },
   "outputs": [],
   "source": [
    "def medianBlur(img, kernel, padding_way):\n",
    "    '''\n",
    "    @param img: H * W size numpy.ndarray\n",
    "    @param kernel: m * n size numpy.ndarray\n",
    "    @param padding_way: a string, either \"REPLICA\" or \"ZERO\"\n",
    "    '''\n",
    "    #H, W = img.shape\n",
    "    H = img.shape[0]\n",
    "    W = img.shape[1]\n",
    "    m, n = kernel.shape\n",
    "\n",
    "    # padding size\n",
    "    ph = m - 1\n",
    "    pw = n - 1\n",
    "    \n",
    "    paddingUp = ph // 2\n",
    "    paddingDown = ph - paddingUp\n",
    "    paddingLeft = pw // 2\n",
    "    paddingRight = pw - paddingLeft\n",
    "    \n",
    "    padding_img = np.zeros((H+ph, W+pw))\n",
    "    \n",
    "    if padding_way == \"REPLICA\":\n",
    "        # padding the img\n",
    "        # padding the rows\n",
    "        for i in range(paddingUp):\n",
    "            padding_img[i, paddingLeft: paddingLeft+W] = img[0, :]\n",
    "        for i in range(paddingUp, paddingUp+H):\n",
    "            padding_img[i, paddingLeft: paddingLeft+W] = img[i-paddingUp, :]\n",
    "        for i in range(paddingUp+H, paddingUp+H+paddingDown): \n",
    "            padding_img[i,paddingLeft: paddingLeft+W] = img[-1, :]\n",
    "        # padding the cols\n",
    "        for i in range(paddingLeft):\n",
    "            padding_img[:, i] = padding_img[:, paddingLeft]\n",
    "        for i in range(paddingLeft+W, paddingLeft+W+paddingRight):\n",
    "            padding_img[:, i] = padding_img[:, paddingLeft+W-1]\n",
    "    elif padding_way == \"ZERO\":\n",
    "        for i in range(paddingUp, paddingUp+H):\n",
    "            padding_img[i, paddingLeft: paddingLeft+W] = img[i-paddingUp, :]\n",
    "    # convert to uint8\n",
    "    padding_img = padding_img.astype('uint8')\n",
    "    out_img = padding_img\n",
    "    newH = padding_img.shape[0]\n",
    "    newW = padding_img.shape[1]\n",
    "    # filter the paddding img\n",
    "    for i in range(H):\n",
    "        for j in range(W):\n",
    "            vec = []\n",
    "            for ki in range(i, i+m):\n",
    "                for kj in range(j, j+n):\n",
    "                    vec.append(padding_img[ki, kj])\n",
    "            # find median pixel value\n",
    "            vec.sort()\n",
    "            out_img[i, j] = vec[(len(vec)+1)//2]\n",
    "    # convert to uint8\n",
    "    out_img = out_img.astype('uint8')\n",
    "    \n",
    "    return out_img"
   ]
  },
  {
   "cell_type": "markdown",
   "metadata": {},
   "source": [
    " ### About The Time Complexity\n",
    " The time complexity depends on how fast our algorithm is to find the median number of a list. As far as I know, the <b>sort()</b> method of <b>list</b> uses <b>TimSort</b> which can achieve <b>O(nlogn)</b>. So total time complexity of my code is <b>O(W$\\times$H$\\times$m$\\times$n$\\times$nlogn)\n",
    "</b>. I believe it's impossible to achieve <b>O(W$\\times$H$\\times$m$\\times$n)</b>."
   ]
  },
  {
   "cell_type": "code",
   "execution_count": 3,
   "metadata": {
    "collapsed": true
   },
   "outputs": [],
   "source": [
    "img = cv2.imread('Lena.png', cv2.IMREAD_GRAYSCALE)\n",
    "cv2.imshow('Lena', img)\n",
    "kernel = np.ones((5, 5))\n",
    "# test replica\n",
    "out_img1 = medianBlur(img, kernel, \"REPLICA\")\n",
    "cv2.imwrite('Blur_Lena_REPLICA.png', out_img1)\n",
    "cv2.imshow('out_img1', out_img1)\n",
    "# test zero\n",
    "out_img2 = medianBlur(img, kernel, \"ZERO\")\n",
    "cv2.imwrite('Blur_Lena_ZERO.png', out_img2)\n",
    "cv2.imshow('out_img2', out_img2)\n",
    "key = cv2.waitKey()\n",
    "if key == 27:\n",
    "    cv2.destroyAllWindows()"
   ]
  },
  {
   "cell_type": "markdown",
   "metadata": {},
   "source": [
    "## Ransac algorithm demo"
   ]
  },
  {
   "cell_type": "code",
   "execution_count": 4,
   "metadata": {
    "collapsed": true
   },
   "outputs": [],
   "source": [
    "x = np.arange(-25, 25, 1)\n",
    "y1 = 2*x + 1\n",
    "y2 = -0.5*x + 6"
   ]
  },
  {
   "cell_type": "code",
   "execution_count": 5,
   "metadata": {
    "scrolled": false
   },
   "outputs": [
    {
     "data": {
      "text/plain": [
       "<matplotlib.collections.PathCollection at 0x25058d6bdd8>"
      ]
     },
     "execution_count": 5,
     "metadata": {},
     "output_type": "execute_result"
    },
    {
     "data": {
      "image/png": "[encoded data removed]",
      "text/plain": [
       "<matplotlib.figure.Figure at 0x250555fb2b0>"
      ]
     },
     "metadata": {},
     "output_type": "display_data"
    }
   ],
   "source": [
    "# two sets of points\n",
    "plt.scatter(x, y1, s=10, c='c', alpha=0.5)\n",
    "plt.scatter(x, y2, s=10, c='g', alpha=0.5)"
   ]
  },
  {
   "cell_type": "code",
   "execution_count": 6,
   "metadata": {
    "collapsed": true
   },
   "outputs": [],
   "source": [
    "# shuffle sets\n",
    "points1 = np.vstack((x, y1))\n",
    "points2 = np.vstack((x, y2))\n",
    "points = np.hstack((points1, points2))\n",
    "points = points.T\n",
    "np.random.shuffle(points)\n",
    "# best parameters\n",
    "best_k = np.inf\n",
    "best_b = np.inf\n",
    "now_k = 0\n",
    "now_b = 0\n",
    "# inliers\n",
    "index1 = np.random.randint(0, 100)\n",
    "index2 = np.random.randint(0, 100)\n",
    "inliers = []\n",
    "outliers = []\n",
    "inliers.append(points[index1, :])\n",
    "inliers.append(points[index2, :])\n",
    "for i in range(100):\n",
    "    if i !=index1 and i!=index2:\n",
    "        outliers.append(points[i, :])\n",
    "## thresh_dist\n",
    "thresh_dist = 5\n",
    "## iter_times \n",
    "iter_times = 0\n",
    "while iter_times < 5000:\n",
    "    size = len(inliers)\n",
    "    id = np.random.choice(size, 2)\n",
    "    id1 = id[0]\n",
    "    id2 = id[1]\n",
    "    xx1 = inliers[id1][0]; yy1 = inliers[id1][1];\n",
    "    xx2 = inliers[id2][0]; yy2 = inliers[id2][1];\n",
    "    now_k = np.nan_to_num((yy2-yy1) / (xx2-xx1+1e-6))\n",
    "    now_b = yy2 - now_k*xx2\n",
    "    # compute distance for each point\n",
    "    inliers.clear()\n",
    "    for arr in points:\n",
    "        d = abs(now_k * arr[0] - arr[1] + now_b) / math.sqrt(now_k**2 + 1**2)\n",
    "        if d < thresh_dist:\n",
    "            inliers.append(arr)\n",
    "    iter_times += 1"
   ]
  },
  {
   "cell_type": "code",
   "execution_count": 7,
   "metadata": {},
   "outputs": [
    {
     "data": {
      "text/plain": [
       "<matplotlib.collections.PathCollection at 0x25059567ef0>"
      ]
     },
     "execution_count": 7,
     "metadata": {},
     "output_type": "execute_result"
    },
    {
     "data": {
      "image/png": "[encoded data removed]",
      "text/plain": [
       "<matplotlib.figure.Figure at 0x25058d88ac8>"
      ]
     },
     "metadata": {},
     "output_type": "display_data"
    }
   ],
   "source": [
    "new_x = [arr[0] for arr in inliers]\n",
    "new_y = [arr[1] for arr in inliers]\n",
    "plt.scatter(x, y1, s=10, c='c', alpha=0.5)\n",
    "plt.scatter(x, y2, s=10, c='g', alpha=0.5)\n",
    "plt.scatter(new_x, new_y, s= 10, c= 'r', alpha=0.5)"
   ]
  },
  {
   "cell_type": "markdown",
   "metadata": {},
   "source": [
    "From above figure, we can see that, the red points are inliers that cover green points with some flase blue points."
   ]
  }
 ],
 "metadata": {
  "kernelspec": {
   "display_name": "Python 3",
   "language": "python",
   "name": "python3"
  },
  "language_info": {
   "codemirror_mode": {
    "name": "ipython",
    "version": 3
   },
   "file_extension": ".py",
   "mimetype": "text/x-python",
   "name": "python",
   "nbconvert_exporter": "python",
   "pygments_lexer": "ipython3",
   "version": "3.6.2"
  }
 },
 "nbformat": 4,
 "nbformat_minor": 2
}
