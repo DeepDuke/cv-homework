{
 "cells": [
  {
   "cell_type": "code",
   "execution_count": 3,
   "metadata": {
    "collapsed": true
   },
   "outputs": [],
   "source": [
    "# week 1"
   ]
  },
  {
   "cell_type": "code",
   "execution_count": 4,
   "metadata": {},
   "outputs": [],
   "source": [
    "import cv2\n",
    "import random\n",
    "import numpy as np\n",
    "from matplotlib import pyplot as plt"
   ]
  },
  {
   "cell_type": "code",
   "execution_count": 5,
   "metadata": {},
   "outputs": [
    {
     "name": "stdout",
     "output_type": "stream",
     "text": [
      "[[[125 137 226]\n",
      "  [125 137 226]\n",
      "  [133 137 223]\n",
      "  ..., \n",
      "  [122 148 230]\n",
      "  [110 130 221]\n",
      "  [ 90  99 200]]\n",
      "\n",
      " [[125 137 226]\n",
      "  [125 137 226]\n",
      "  [133 137 223]\n",
      "  ..., \n",
      "  [122 148 230]\n",
      "  [110 130 221]\n",
      "  [ 90  99 200]]\n",
      "\n",
      " [[125 137 226]\n",
      "  [125 137 226]\n",
      "  [133 137 223]\n",
      "  ..., \n",
      "  [122 148 230]\n",
      "  [110 130 221]\n",
      "  [ 90  99 200]]\n",
      "\n",
      " ..., \n",
      " [[ 60  18  84]\n",
      "  [ 60  18  84]\n",
      "  [ 58  27  92]\n",
      "  ..., \n",
      "  [ 84  73 173]\n",
      "  [ 76  68 172]\n",
      "  [ 79  62 177]]\n",
      "\n",
      " [[ 57  22  82]\n",
      "  [ 57  22  82]\n",
      "  [ 62  32  96]\n",
      "  ..., \n",
      "  [ 79  70 179]\n",
      "  [ 81  71 181]\n",
      "  [ 81  74 185]]\n",
      "\n",
      " [[ 57  22  82]\n",
      "  [ 57  22  82]\n",
      "  [ 62  32  96]\n",
      "  ..., \n",
      "  [ 79  70 179]\n",
      "  [ 81  71 181]\n",
      "  [ 81  74 185]]]\n"
     ]
    }
   ],
   "source": [
    "# show RGB lena\n",
    "img = cv2.imread('Lena.png')\n",
    "cv2.imshow('Lena', img)\n",
    "key = cv2.waitKey()\n",
    "if key == 27:\n",
    "    cv2.destroyAllWindows()\n",
    "print(img)"
   ]
  },
  {
   "cell_type": "code",
   "execution_count": 6,
   "metadata": {},
   "outputs": [
    {
     "data": {
      "text/plain": [
       "True"
      ]
     },
     "execution_count": 6,
     "metadata": {},
     "output_type": "execute_result"
    }
   ],
   "source": [
    "# img_crop\n",
    "img_crop = img[150:350, 150:350, :]\n",
    "cv2.imshow('img_crop', img_crop)\n",
    "key = cv2.waitKey()\n",
    "if key == 27:\n",
    "    cv2.destroyAllWindows()\n",
    "# save img_crop\n",
    "cv2.imwrite('Lena_crop.png', img_crop)"
   ]
  },
  {
   "cell_type": "code",
   "execution_count": 7,
   "metadata": {},
   "outputs": [],
   "source": [
    "# color split\n",
    "B, G, R = cv2.split(img)\n",
    "cv2.imshow('B', B)\n",
    "cv2.imshow('G', G)\n",
    "cv2.imshow('R', R)\n",
    "# save\n",
    "cv2.imwrite('B.png', B)\n",
    "cv2.imwrite('G.png', G)\n",
    "cv2.imwrite('R.png', R)\n",
    "key = cv2.waitKey()\n",
    "if key == 27:\n",
    "    cv2.destroyAllWindows()"
   ]
  },
  {
   "cell_type": "code",
   "execution_count": 15,
   "metadata": {},
   "outputs": [],
   "source": [
    "# change color\n",
    "def random_light_color(img):\n",
    "    B, G, R = cv2.split(img)\n",
    "    \n",
    "    # change B\n",
    "    B = B.astype('int')\n",
    "    b_rand = random.randint(-50, 50)\n",
    "    B = B + b_rand\n",
    "    B[B > 255] = 255\n",
    "    B[B < 0] = 0\n",
    "    B = B.astype('uint8')\n",
    "    # change G\n",
    "    G = G.astype('int')\n",
    "    g_rand = random.randint(-50, 50)\n",
    "    G = G + g_rand\n",
    "    G[G > 255] = 255\n",
    "    G[G < 0] = 0\n",
    "    G = G.astype('uint8')\n",
    "    # change R\n",
    "    R = R.astype('int')\n",
    "    r_rand = random.randint(-50, 50)\n",
    "    R = R + r_rand\n",
    "    R[R > 255] = 255\n",
    "    R[R < 0] = 0\n",
    "    R = R.astype('uint8')\n",
    "    # merge B, G, R\n",
    "    img_merge = cv2.merge((B, G, R))\n",
    "    return img_merge\n",
    "img_random_color = random_light_color(img)\n",
    "cv2.imwrite('img_random_color.png', img_random_color)\n",
    "cv2.imshow('img_random_color', img_random_color)\n",
    "key = cv2.waitKey()\n",
    "if key == 27:\n",
    "    cv2.destroyAllWindows()"
   ]
  },
  {
   "cell_type": "code",
   "execution_count": 8,
   "metadata": {},
   "outputs": [
    {
     "data": {
      "text/plain": [
       "True"
      ]
     },
     "execution_count": 8,
     "metadata": {},
     "output_type": "execute_result"
    }
   ],
   "source": [
    "# gamma correction\n",
    "\n",
    "def adjust_gamma(img, gamma=1.0):\n",
    "    invGamma = 1.0 /gamma\n",
    "    table = np.array([((i/255.0)**invGamma)*255 for i in np.arange(0, 256)])\n",
    "    table = table.astype('uint8')\n",
    "    return cv2.LUT(img, table)\n",
    "\n",
    "img_darker = adjust_gamma(img, 0.5)\n",
    "img_brighter = adjust_gamma(img, 2)\n",
    "cv2.imshow('Original Lena', img)\n",
    "cv2.imshow('Darker Lena', img_darker)\n",
    "cv2.imshow('Brighter Lena', img_brighter)\n",
    "key = cv2.waitKey()\n",
    "if key == 27:\n",
    "    cv2.destroyAllWindows()\n",
    "# save image\n",
    "cv2.imwrite('Darker_Lena.png', img_darker)\n",
    "cv2.imwrite('Brighter_Lena.png', img_brighter)"
   ]
  },
  {
   "cell_type": "code",
   "execution_count": 10,
   "metadata": {},
   "outputs": [
    {
     "data": {
      "image/png": "[encoded data removed]",
      "text/plain": [
       "<matplotlib.figure.Figure at 0x1fa6b6ebda0>"
      ]
     },
     "metadata": {},
     "output_type": "display_data"
    }
   ],
   "source": [
    "# histogram\n",
    "img_small_brighter = cv2.resize(img_brighter, (int(img_brighter.shape[0]*0.5), int(img_brighter.shape[1]*0.5)))\n",
    "plt.hist(img_brighter.flatten(), 256, [0, 256], color = 'r')\n",
    "plt.show()\n",
    "img_yuv = cv2.cvtColor(img_small_brighter, cv2.COLOR_BGR2YUV)\n",
    "cv2.imshow('img_yuv', img_yuv)\n",
    "# equalize the histogram of the Y channel\n",
    "img_yuv[:,:,0] = cv2.equalizeHist(img_yuv[:,:,0])   # only for 1 channel\n",
    "# convert the YUV image back to RGB format\n",
    "img_output = cv2.cvtColor(img_yuv, cv2.COLOR_YUV2BGR)   # y: luminance\n",
    "cv2.imshow('Color input image', img_small_brighter)\n",
    "cv2.imshow('Histogram equalized', img_output)\n",
    "\n",
    "key = cv2.waitKey(0)\n",
    "if key == 27:\n",
    "    exit()"
   ]
  },
  {
   "cell_type": "code",
   "execution_count": 9,
   "metadata": {},
   "outputs": [
    {
     "name": "stdout",
     "output_type": "stream",
     "text": [
      "[[   0.8660254     0.5         -93.70250337]\n",
      " [  -0.5           0.8660254   162.29749663]]\n"
     ]
    }
   ],
   "source": [
    "#rotation\n",
    "import cv2\n",
    "M = cv2.getRotationMatrix2D((img.shape[1] / 2, img.shape[0] / 2), 30, 1) # center, angle, scale\n",
    "img_rotate = cv2.warpAffine(img, M, (img.shape[1], img.shape[0]))\n",
    "cv2.imwrite('img_rotate.png', img_rotate)\n",
    "cv2.imshow('rotated lenna', img_rotate)\n",
    "key = cv2.waitKey(0)\n",
    "if key == 27:\n",
    "    cv2.destroyAllWindows()\n",
    "\n",
    "print(M)"
   ]
  },
  {
   "cell_type": "code",
   "execution_count": 10,
   "metadata": {},
   "outputs": [
    {
     "name": "stdout",
     "output_type": "stream",
     "text": [
      "[[   0.8660254     0.5         -93.70250337]\n",
      " [  -0.5           0.8660254   162.29749663]]\n"
     ]
    }
   ],
   "source": [
    "# set M[0][2] = M[1][2] = 0\n",
    "print(M)\n",
    "img_rotate2 = cv2.warpAffine(img, M, (img.shape[1], img.shape[0]))\n",
    "cv2.imshow('rotated lenna2', img_rotate2)\n",
    "key = cv2.waitKey(0)\n",
    "if key == 27:\n",
    "    cv2.destroyAllWindows()\n",
    "# explain translation"
   ]
  },
  {
   "cell_type": "code",
   "execution_count": 11,
   "metadata": {},
   "outputs": [
    {
     "name": "stdout",
     "output_type": "stream",
     "text": [
      "[[   0.4330127     0.25         81.14874832]\n",
      " [  -0.25          0.4330127   209.14874832]]\n"
     ]
    }
   ],
   "source": [
    "# scale+rotation+translation = similarity transform\n",
    "M = cv2.getRotationMatrix2D((img.shape[1] / 2, img.shape[0] / 2), 30, 0.5) # center, angle, scale\n",
    "img_rotate = cv2.warpAffine(img, M, (img.shape[1], img.shape[0]))\n",
    "cv2.imwrite('similarity_transform.png', img_rotate)\n",
    "cv2.imshow('rotated lenna', img_rotate)\n",
    "key = cv2.waitKey(0)\n",
    "if key == 27:\n",
    "    cv2.destroyAllWindows()\n",
    "\n",
    "print(M)"
   ]
  },
  {
   "cell_type": "code",
   "execution_count": 12,
   "metadata": {
    "collapsed": true
   },
   "outputs": [],
   "source": [
    "# Affine Transform\n",
    "rows, cols, ch = img.shape\n",
    "pts1 = np.float32([[0, 0], [cols - 1, 0], [0, rows - 1]])\n",
    "pts2 = np.float32([[cols * 0.2, rows * 0.1], [cols * 0.9, rows * 0.2], [cols * 0.1, rows * 0.9]])\n",
    " \n",
    "M = cv2.getAffineTransform(pts1, pts2)\n",
    "dst = cv2.warpAffine(img, M, (cols, rows))\n",
    "cv2.imwrite('affine_transformation.png', dst)\n",
    "cv2.imshow('affine lenna', dst)\n",
    "key = cv2.waitKey(0)\n",
    "if key == 27:\n",
    "    cv2.destroyAllWindows()"
   ]
  },
  {
   "cell_type": "code",
   "execution_count": 20,
   "metadata": {
    "collapsed": true
   },
   "outputs": [],
   "source": [
    "# perspective transform\n",
    "def random_warp(img, row, col):\n",
    "    height, width, channels = img.shape\n",
    "\n",
    "    # warp:\n",
    "    random_margin = 60\n",
    "    x1 = random.randint(-random_margin, random_margin)\n",
    "    y1 = random.randint(-random_margin, random_margin)\n",
    "    x2 = random.randint(width - random_margin - 1, width - 1)\n",
    "    y2 = random.randint(-random_margin, random_margin)\n",
    "    x3 = random.randint(width - random_margin - 1, width - 1)\n",
    "    y3 = random.randint(height - random_margin - 1, height - 1)\n",
    "    x4 = random.randint(-random_margin, random_margin)\n",
    "    y4 = random.randint(height - random_margin - 1, height - 1)\n",
    "    \n",
    "    dx1 = random.randint(-random_margin, random_margin)\n",
    "    dy1 = random.randint(-random_margin, random_margin)\n",
    "    dx2 = random.randint(width - random_margin - 1, width - 1)\n",
    "    dy2 = random.randint(-random_margin, random_margin)\n",
    "    dx3 = random.randint(width - random_margin - 1, width - 1)\n",
    "    dy3 = random.randint(height - random_margin - 1, height - 1)\n",
    "    dx4 = random.randint(-random_margin, random_margin)\n",
    "    dy4 = random.randint(height - random_margin - 1, height - 1)\n",
    "\n",
    "    pts1 = np.float32([[x1, y1], [x2, y2], [x3, y3], [x4, y4]])\n",
    "    pts2 = np.float32([[dx1, dy1], [dx2, dy2], [dx3, dy3], [dx4, dy4]])\n",
    "    M_warp = cv2.getPerspectiveTransform(pts1, pts2)\n",
    "    img_warp = cv2.warpPerspective(img, M_warp, (width, height))\n",
    "    return M_warp, img_warp\n",
    "M_warp, img_warp = random_warp(img, img.shape[0], img.shape[1])\n",
    "cv2.imwrite('perspective_transform.png', img_warp\n",
    "           )\n",
    "cv2.imshow('lenna_warp', img_warp)\n",
    "key = cv2.waitKey(0)\n",
    "if key == 27:\n",
    "    cv2.destroyAllWindows()"
   ]
  },
  {
   "cell_type": "code",
   "execution_count": 25,
   "metadata": {},
   "outputs": [],
   "source": [
    "# augment\n",
    "def augment(img):\n",
    "    # change color\n",
    "    img_color = random_light_color(img)\n",
    "    # rotation\n",
    "    angle = random.randint(0, 361)\n",
    "    M = cv2.getRotationMatrix2D((img.shape[1] / 2, img.shape[0] / 2), angle, 1) \n",
    "    img_rotate = cv2.warpAffine(img_color, M, (img.shape[1], img.shape[0]))\n",
    "    # perspective transform\n",
    "    M_warp, img_warp = random_warp(img_rotate, img.shape[0], img.shape[1])\n",
    "    return img_warp\n",
    "img_aug = augment(img)\n",
    "cv2.imshow('img_aug', img_aug)\n",
    "key = cv2.waitKey(0)\n",
    "if key == 27:\n",
    "    cv2.destroyAllWindows()"
   ]
  },
  {
   "cell_type": "code",
   "execution_count": null,
   "metadata": {
    "collapsed": true
   },
   "outputs": [],
   "source": []
  },
  {
   "cell_type": "code",
   "execution_count": null,
   "metadata": {
    "collapsed": true
   },
   "outputs": [],
   "source": []
  }
 ],
 "metadata": {
  "kernelspec": {
   "display_name": "Python 3",
   "language": "python",
   "name": "python3"
  },
  "language_info": {
   "codemirror_mode": {
    "name": "ipython",
    "version": 3
   },
   "file_extension": ".py",
   "mimetype": "text/x-python",
   "name": "python",
   "nbconvert_exporter": "python",
   "pygments_lexer": "ipython3",
   "version": "3.6.2"
  }
 },
 "nbformat": 4,
 "nbformat_minor": 2
}
